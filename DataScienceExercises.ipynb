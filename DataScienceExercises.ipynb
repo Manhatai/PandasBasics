{
 "cells": [
  {
   "cell_type": "code",
   "execution_count": null,
   "id": "initial_id",
   "metadata": {
    "collapsed": true,
    "is_executing": true
   },
   "outputs": [],
   "source": [
    "import pandas as pd\n",
    "dict1 ={'Name':['Priyang','Aadhya','Krisha','Vedant','Parshv',\n",
    "                'Mittal','Archana'],\n",
    "                'Marks':[98,89,99,87,90,83,99],\n",
    "                'Gender':['Male','Female','Female','Male','Male',\n",
    "                         'Female','Female']\n",
    "               }\n",
    "df1=pd.DataFrame(dict1)\n",
    "df1"
   ]
  },
  {
   "cell_type": "markdown",
   "source": [
    "1. Display top 3 rows of the dataset"
   ],
   "metadata": {
    "collapsed": false
   },
   "id": "4574bedd8b00d005"
  },
  {
   "cell_type": "code",
   "execution_count": 6,
   "outputs": [
    {
     "data": {
      "text/plain": "      Name  Marks  Gender\n0  Priyang     98    Male\n1   Aadhya     89  Female\n2   Krisha     99  Female",
      "text/html": "<div>\n<style scoped>\n    .dataframe tbody tr th:only-of-type {\n        vertical-align: middle;\n    }\n\n    .dataframe tbody tr th {\n        vertical-align: top;\n    }\n\n    .dataframe thead th {\n        text-align: right;\n    }\n</style>\n<table border=\"1\" class=\"dataframe\">\n  <thead>\n    <tr style=\"text-align: right;\">\n      <th></th>\n      <th>Name</th>\n      <th>Marks</th>\n      <th>Gender</th>\n    </tr>\n  </thead>\n  <tbody>\n    <tr>\n      <th>0</th>\n      <td>Priyang</td>\n      <td>98</td>\n      <td>Male</td>\n    </tr>\n    <tr>\n      <th>1</th>\n      <td>Aadhya</td>\n      <td>89</td>\n      <td>Female</td>\n    </tr>\n    <tr>\n      <th>2</th>\n      <td>Krisha</td>\n      <td>99</td>\n      <td>Female</td>\n    </tr>\n  </tbody>\n</table>\n</div>"
     },
     "execution_count": 6,
     "metadata": {},
     "output_type": "execute_result"
    }
   ],
   "source": [
    "df1.head(3)"
   ],
   "metadata": {
    "collapsed": false,
    "ExecuteTime": {
     "end_time": "2023-11-14T17:46:18.109301300Z",
     "start_time": "2023-11-14T17:46:18.097474Z"
    }
   },
   "id": "f2deaf60b500ff08"
  },
  {
   "cell_type": "markdown",
   "source": [
    "2. Display last 3 rows of the dataset"
   ],
   "metadata": {
    "collapsed": false
   },
   "id": "b859adab4c7eeaf7"
  },
  {
   "cell_type": "code",
   "execution_count": 7,
   "outputs": [
    {
     "data": {
      "text/plain": "      Name  Marks  Gender\n4   Parshv     90    Male\n5   Mittal     83  Female\n6  Archana     99  Female",
      "text/html": "<div>\n<style scoped>\n    .dataframe tbody tr th:only-of-type {\n        vertical-align: middle;\n    }\n\n    .dataframe tbody tr th {\n        vertical-align: top;\n    }\n\n    .dataframe thead th {\n        text-align: right;\n    }\n</style>\n<table border=\"1\" class=\"dataframe\">\n  <thead>\n    <tr style=\"text-align: right;\">\n      <th></th>\n      <th>Name</th>\n      <th>Marks</th>\n      <th>Gender</th>\n    </tr>\n  </thead>\n  <tbody>\n    <tr>\n      <th>4</th>\n      <td>Parshv</td>\n      <td>90</td>\n      <td>Male</td>\n    </tr>\n    <tr>\n      <th>5</th>\n      <td>Mittal</td>\n      <td>83</td>\n      <td>Female</td>\n    </tr>\n    <tr>\n      <th>6</th>\n      <td>Archana</td>\n      <td>99</td>\n      <td>Female</td>\n    </tr>\n  </tbody>\n</table>\n</div>"
     },
     "execution_count": 7,
     "metadata": {},
     "output_type": "execute_result"
    }
   ],
   "source": [
    "df1.tail(3)"
   ],
   "metadata": {
    "collapsed": false,
    "ExecuteTime": {
     "end_time": "2023-11-14T17:47:28.867413Z",
     "start_time": "2023-11-14T17:47:28.852130900Z"
    }
   },
   "id": "143f7afbf7b89a5f"
  },
  {
   "cell_type": "markdown",
   "source": [
    "3. Find shape of our dataset (number of rows and columns)"
   ],
   "metadata": {
    "collapsed": false
   },
   "id": "53c36957af3579ff"
  },
  {
   "cell_type": "code",
   "execution_count": 9,
   "outputs": [
    {
     "name": "stdout",
     "output_type": "stream",
     "text": [
      "Number of rows: 7\n",
      "Number of columns: 3\n"
     ]
    }
   ],
   "source": [
    "print(f\"Number of rows: {df1.shape[0]}\")\n",
    "print(f\"Number of columns: {df1.shape[1]}\")"
   ],
   "metadata": {
    "collapsed": false,
    "ExecuteTime": {
     "end_time": "2023-11-14T17:51:31.742630800Z",
     "start_time": "2023-11-14T17:51:31.715744300Z"
    }
   },
   "id": "168a7461d6202753"
  },
  {
   "cell_type": "markdown",
   "source": [
    "4. Get information about dataset"
   ],
   "metadata": {
    "collapsed": false
   },
   "id": "89b1583a20db557d"
  },
  {
   "cell_type": "code",
   "execution_count": 10,
   "outputs": [
    {
     "name": "stdout",
     "output_type": "stream",
     "text": [
      "<class 'pandas.core.frame.DataFrame'>\n",
      "RangeIndex: 7 entries, 0 to 6\n",
      "Data columns (total 3 columns):\n",
      " #   Column  Non-Null Count  Dtype \n",
      "---  ------  --------------  ----- \n",
      " 0   Name    7 non-null      object\n",
      " 1   Marks   7 non-null      int64 \n",
      " 2   Gender  7 non-null      object\n",
      "dtypes: int64(1), object(2)\n",
      "memory usage: 300.0+ bytes\n"
     ]
    }
   ],
   "source": [
    "df1.info()"
   ],
   "metadata": {
    "collapsed": false,
    "ExecuteTime": {
     "end_time": "2023-11-14T18:00:53.237166500Z",
     "start_time": "2023-11-14T18:00:53.210875600Z"
    }
   },
   "id": "bd9979be3b1b28ab"
  },
  {
   "cell_type": "markdown",
   "source": [
    "5. Check null values in dataset"
   ],
   "metadata": {
    "collapsed": false
   },
   "id": "da0b9deae21b1deb"
  },
  {
   "cell_type": "code",
   "execution_count": 14,
   "outputs": [
    {
     "data": {
      "text/plain": "Name      0\nMarks     0\nGender    0\ndtype: int64"
     },
     "execution_count": 14,
     "metadata": {},
     "output_type": "execute_result"
    }
   ],
   "source": [
    "df1.isnull().sum(axis=0)"
   ],
   "metadata": {
    "collapsed": false,
    "ExecuteTime": {
     "end_time": "2023-11-14T18:57:53.160133900Z",
     "start_time": "2023-11-14T18:57:53.125866500Z"
    }
   },
   "id": "afb4a1cef7ae34ef"
  },
  {
   "cell_type": "markdown",
   "source": [
    "6. Get overall statistics about the dataframe"
   ],
   "metadata": {
    "collapsed": false
   },
   "id": "59de700e9d2212fd"
  },
  {
   "cell_type": "code",
   "execution_count": 5,
   "outputs": [
    {
     "data": {
      "text/plain": "           Name      Marks  Gender\ncount         7   7.000000       7\nunique        7        NaN       2\ntop     Priyang        NaN  Female\nfreq          1        NaN       4\nmean        NaN  92.142857     NaN\nstd         NaN   6.491753     NaN\nmin         NaN  83.000000     NaN\n25%         NaN  88.000000     NaN\n50%         NaN  90.000000     NaN\n75%         NaN  98.500000     NaN\nmax         NaN  99.000000     NaN",
      "text/html": "<div>\n<style scoped>\n    .dataframe tbody tr th:only-of-type {\n        vertical-align: middle;\n    }\n\n    .dataframe tbody tr th {\n        vertical-align: top;\n    }\n\n    .dataframe thead th {\n        text-align: right;\n    }\n</style>\n<table border=\"1\" class=\"dataframe\">\n  <thead>\n    <tr style=\"text-align: right;\">\n      <th></th>\n      <th>Name</th>\n      <th>Marks</th>\n      <th>Gender</th>\n    </tr>\n  </thead>\n  <tbody>\n    <tr>\n      <th>count</th>\n      <td>7</td>\n      <td>7.000000</td>\n      <td>7</td>\n    </tr>\n    <tr>\n      <th>unique</th>\n      <td>7</td>\n      <td>NaN</td>\n      <td>2</td>\n    </tr>\n    <tr>\n      <th>top</th>\n      <td>Priyang</td>\n      <td>NaN</td>\n      <td>Female</td>\n    </tr>\n    <tr>\n      <th>freq</th>\n      <td>1</td>\n      <td>NaN</td>\n      <td>4</td>\n    </tr>\n    <tr>\n      <th>mean</th>\n      <td>NaN</td>\n      <td>92.142857</td>\n      <td>NaN</td>\n    </tr>\n    <tr>\n      <th>std</th>\n      <td>NaN</td>\n      <td>6.491753</td>\n      <td>NaN</td>\n    </tr>\n    <tr>\n      <th>min</th>\n      <td>NaN</td>\n      <td>83.000000</td>\n      <td>NaN</td>\n    </tr>\n    <tr>\n      <th>25%</th>\n      <td>NaN</td>\n      <td>88.000000</td>\n      <td>NaN</td>\n    </tr>\n    <tr>\n      <th>50%</th>\n      <td>NaN</td>\n      <td>90.000000</td>\n      <td>NaN</td>\n    </tr>\n    <tr>\n      <th>75%</th>\n      <td>NaN</td>\n      <td>98.500000</td>\n      <td>NaN</td>\n    </tr>\n    <tr>\n      <th>max</th>\n      <td>NaN</td>\n      <td>99.000000</td>\n      <td>NaN</td>\n    </tr>\n  </tbody>\n</table>\n</div>"
     },
     "execution_count": 5,
     "metadata": {},
     "output_type": "execute_result"
    }
   ],
   "source": [
    "df1.describe(include='all')"
   ],
   "metadata": {
    "collapsed": false,
    "ExecuteTime": {
     "end_time": "2023-11-15T13:04:49.176839Z",
     "start_time": "2023-11-15T13:04:49.163353300Z"
    }
   },
   "id": "58d0819539d607cd"
  },
  {
   "cell_type": "markdown",
   "source": [
    "7. Find unique values from Gender column"
   ],
   "metadata": {
    "collapsed": false
   },
   "id": "92703dcd325cff05"
  },
  {
   "cell_type": "code",
   "execution_count": 6,
   "outputs": [
    {
     "data": {
      "text/plain": "array(['Male', 'Female'], dtype=object)"
     },
     "execution_count": 6,
     "metadata": {},
     "output_type": "execute_result"
    }
   ],
   "source": [
    "df1['Gender'].unique()"
   ],
   "metadata": {
    "collapsed": false,
    "ExecuteTime": {
     "end_time": "2023-11-15T13:04:50.572843100Z",
     "start_time": "2023-11-15T13:04:50.563043300Z"
    }
   },
   "id": "4d49dee1bb99cc41"
  },
  {
   "cell_type": "markdown",
   "source": [
    "8. Find a number of unique values from Gender column"
   ],
   "metadata": {
    "collapsed": false
   },
   "id": "97995d9510093e40"
  },
  {
   "cell_type": "code",
   "execution_count": 8,
   "outputs": [
    {
     "data": {
      "text/plain": "2"
     },
     "execution_count": 8,
     "metadata": {},
     "output_type": "execute_result"
    }
   ],
   "source": [
    "df1['Gender'].nunique()"
   ],
   "metadata": {
    "collapsed": false,
    "ExecuteTime": {
     "end_time": "2023-11-15T13:06:43.110523900Z",
     "start_time": "2023-11-15T13:06:43.082121900Z"
    }
   },
   "id": "5dd4905d8a0f7010"
  },
  {
   "cell_type": "markdown",
   "source": [
    "9. Display the count of unique values in \"Gender\" column"
   ],
   "metadata": {
    "collapsed": false
   },
   "id": "9b0e4baaa3490ed7"
  },
  {
   "cell_type": "code",
   "execution_count": 9,
   "outputs": [
    {
     "data": {
      "text/plain": "Gender\nFemale    4\nMale      3\nName: count, dtype: int64"
     },
     "execution_count": 9,
     "metadata": {},
     "output_type": "execute_result"
    }
   ],
   "source": [
    "df1['Gender'].value_counts()"
   ],
   "metadata": {
    "collapsed": false,
    "ExecuteTime": {
     "end_time": "2023-11-15T13:10:01.532962100Z",
     "start_time": "2023-11-15T13:10:01.518622Z"
    }
   },
   "id": "e30dee12bb817ed5"
  },
  {
   "cell_type": "markdown",
   "source": [
    "10. Find a total number of students with marks between 90 and 100"
   ],
   "metadata": {
    "collapsed": false
   },
   "id": "aa7249aa7a12cbcf"
  },
  {
   "cell_type": "code",
   "execution_count": 10,
   "outputs": [
    {
     "data": {
      "text/plain": "      Name  Marks  Gender\n0  Priyang     98    Male\n2   Krisha     99  Female\n4   Parshv     90    Male\n6  Archana     99  Female",
      "text/html": "<div>\n<style scoped>\n    .dataframe tbody tr th:only-of-type {\n        vertical-align: middle;\n    }\n\n    .dataframe tbody tr th {\n        vertical-align: top;\n    }\n\n    .dataframe thead th {\n        text-align: right;\n    }\n</style>\n<table border=\"1\" class=\"dataframe\">\n  <thead>\n    <tr style=\"text-align: right;\">\n      <th></th>\n      <th>Name</th>\n      <th>Marks</th>\n      <th>Gender</th>\n    </tr>\n  </thead>\n  <tbody>\n    <tr>\n      <th>0</th>\n      <td>Priyang</td>\n      <td>98</td>\n      <td>Male</td>\n    </tr>\n    <tr>\n      <th>2</th>\n      <td>Krisha</td>\n      <td>99</td>\n      <td>Female</td>\n    </tr>\n    <tr>\n      <th>4</th>\n      <td>Parshv</td>\n      <td>90</td>\n      <td>Male</td>\n    </tr>\n    <tr>\n      <th>6</th>\n      <td>Archana</td>\n      <td>99</td>\n      <td>Female</td>\n    </tr>\n  </tbody>\n</table>\n</div>"
     },
     "execution_count": 10,
     "metadata": {},
     "output_type": "execute_result"
    }
   ],
   "source": [
    "df1[df1['Marks']>=90]"
   ],
   "metadata": {
    "collapsed": false,
    "ExecuteTime": {
     "end_time": "2023-11-15T13:15:58.539271700Z",
     "start_time": "2023-11-15T13:15:58.518648800Z"
    }
   },
   "id": "1d78cb548e72a1f3"
  },
  {
   "cell_type": "code",
   "execution_count": 12,
   "outputs": [
    {
     "data": {
      "text/plain": "      Name  Marks  Gender\n0  Priyang     98    Male\n2   Krisha     99  Female\n4   Parshv     90    Male\n6  Archana     99  Female",
      "text/html": "<div>\n<style scoped>\n    .dataframe tbody tr th:only-of-type {\n        vertical-align: middle;\n    }\n\n    .dataframe tbody tr th {\n        vertical-align: top;\n    }\n\n    .dataframe thead th {\n        text-align: right;\n    }\n</style>\n<table border=\"1\" class=\"dataframe\">\n  <thead>\n    <tr style=\"text-align: right;\">\n      <th></th>\n      <th>Name</th>\n      <th>Marks</th>\n      <th>Gender</th>\n    </tr>\n  </thead>\n  <tbody>\n    <tr>\n      <th>0</th>\n      <td>Priyang</td>\n      <td>98</td>\n      <td>Male</td>\n    </tr>\n    <tr>\n      <th>2</th>\n      <td>Krisha</td>\n      <td>99</td>\n      <td>Female</td>\n    </tr>\n    <tr>\n      <th>4</th>\n      <td>Parshv</td>\n      <td>90</td>\n      <td>Male</td>\n    </tr>\n    <tr>\n      <th>6</th>\n      <td>Archana</td>\n      <td>99</td>\n      <td>Female</td>\n    </tr>\n  </tbody>\n</table>\n</div>"
     },
     "execution_count": 12,
     "metadata": {},
     "output_type": "execute_result"
    }
   ],
   "source": [
    "df1[(df1['Marks']>=90) & (df1['Marks']<=100)]"
   ],
   "metadata": {
    "collapsed": false,
    "ExecuteTime": {
     "end_time": "2023-11-15T13:18:45.569547600Z",
     "start_time": "2023-11-15T13:18:45.544819100Z"
    }
   },
   "id": "d8bdcf634524eb9a"
  },
  {
   "cell_type": "code",
   "execution_count": 13,
   "outputs": [
    {
     "data": {
      "text/plain": "4"
     },
     "execution_count": 13,
     "metadata": {},
     "output_type": "execute_result"
    }
   ],
   "source": [
    "len(df1[(df1['Marks']>=90) & (df1['Marks']<=100)])"
   ],
   "metadata": {
    "collapsed": false,
    "ExecuteTime": {
     "end_time": "2023-11-15T13:21:33.719729Z",
     "start_time": "2023-11-15T13:21:33.699241600Z"
    }
   },
   "id": "26919f1756046f09"
  },
  {
   "cell_type": "code",
   "execution_count": 15,
   "outputs": [
    {
     "data": {
      "text/plain": "      Name  Marks  Gender\n0  Priyang     98    Male\n2   Krisha     99  Female\n4   Parshv     90    Male\n6  Archana     99  Female",
      "text/html": "<div>\n<style scoped>\n    .dataframe tbody tr th:only-of-type {\n        vertical-align: middle;\n    }\n\n    .dataframe tbody tr th {\n        vertical-align: top;\n    }\n\n    .dataframe thead th {\n        text-align: right;\n    }\n</style>\n<table border=\"1\" class=\"dataframe\">\n  <thead>\n    <tr style=\"text-align: right;\">\n      <th></th>\n      <th>Name</th>\n      <th>Marks</th>\n      <th>Gender</th>\n    </tr>\n  </thead>\n  <tbody>\n    <tr>\n      <th>0</th>\n      <td>Priyang</td>\n      <td>98</td>\n      <td>Male</td>\n    </tr>\n    <tr>\n      <th>2</th>\n      <td>Krisha</td>\n      <td>99</td>\n      <td>Female</td>\n    </tr>\n    <tr>\n      <th>4</th>\n      <td>Parshv</td>\n      <td>90</td>\n      <td>Male</td>\n    </tr>\n    <tr>\n      <th>6</th>\n      <td>Archana</td>\n      <td>99</td>\n      <td>Female</td>\n    </tr>\n  </tbody>\n</table>\n</div>"
     },
     "execution_count": 15,
     "metadata": {},
     "output_type": "execute_result"
    }
   ],
   "source": [
    "df1[df1['Marks'].between(90,100)]"
   ],
   "metadata": {
    "collapsed": false,
    "ExecuteTime": {
     "end_time": "2023-11-15T13:22:57.144365Z",
     "start_time": "2023-11-15T13:22:57.113053Z"
    }
   },
   "id": "23e2d53d93a6c557"
  },
  {
   "cell_type": "code",
   "execution_count": 17,
   "outputs": [
    {
     "data": {
      "text/plain": "4"
     },
     "execution_count": 17,
     "metadata": {},
     "output_type": "execute_result"
    }
   ],
   "source": [
    "sum(df1['Marks'].between(90,100))"
   ],
   "metadata": {
    "collapsed": false,
    "ExecuteTime": {
     "end_time": "2023-11-15T13:23:21.354707600Z",
     "start_time": "2023-11-15T13:23:21.328582700Z"
    }
   },
   "id": "560ed433dc9d0436"
  },
  {
   "cell_type": "markdown",
   "source": [
    "11. Find average marks"
   ],
   "metadata": {
    "collapsed": false
   },
   "id": "7a5e6145fc49bebc"
  },
  {
   "cell_type": "code",
   "execution_count": 19,
   "outputs": [
    {
     "data": {
      "text/plain": "92"
     },
     "execution_count": 19,
     "metadata": {},
     "output_type": "execute_result"
    }
   ],
   "source": [
    "round(df1['Marks'].mean())"
   ],
   "metadata": {
    "collapsed": false,
    "ExecuteTime": {
     "end_time": "2023-11-15T13:25:52.966271200Z",
     "start_time": "2023-11-15T13:25:52.937503200Z"
    }
   },
   "id": "4c5770966cdfef97"
  },
  {
   "cell_type": "code",
   "execution_count": 20,
   "outputs": [
    {
     "data": {
      "text/plain": "83"
     },
     "execution_count": 20,
     "metadata": {},
     "output_type": "execute_result"
    }
   ],
   "source": [
    "df1['Marks'].min()"
   ],
   "metadata": {
    "collapsed": false,
    "ExecuteTime": {
     "end_time": "2023-11-15T13:26:19.943447100Z",
     "start_time": "2023-11-15T13:26:19.915144400Z"
    }
   },
   "id": "8ad1bc69d4197f59"
  },
  {
   "cell_type": "code",
   "execution_count": 23,
   "outputs": [
    {
     "data": {
      "text/plain": "99"
     },
     "execution_count": 23,
     "metadata": {},
     "output_type": "execute_result"
    }
   ],
   "source": [
    "df1['Marks'].max()"
   ],
   "metadata": {
    "collapsed": false,
    "ExecuteTime": {
     "end_time": "2023-11-15T13:26:50.046860500Z",
     "start_time": "2023-11-15T13:26:50.032937700Z"
    }
   },
   "id": "16b26edddbcd4089"
  },
  {
   "cell_type": "markdown",
   "source": [
    "12. Apply method"
   ],
   "metadata": {
    "collapsed": false
   },
   "id": "cff4f846c462d26"
  },
  {
   "cell_type": "code",
   "execution_count": 26,
   "outputs": [],
   "source": [
    "def marks(x):\n",
    "    return x//2"
   ],
   "metadata": {
    "collapsed": false,
    "ExecuteTime": {
     "end_time": "2023-11-15T13:29:07.977844900Z",
     "start_time": "2023-11-15T13:29:07.963107600Z"
    }
   },
   "id": "2868c6d69a86adb8"
  },
  {
   "cell_type": "code",
   "execution_count": 34,
   "outputs": [],
   "source": [
    "df1['Half_Marks']=df1['Marks'].apply(marks)"
   ],
   "metadata": {
    "collapsed": false,
    "ExecuteTime": {
     "end_time": "2023-11-15T13:31:49.242634600Z",
     "start_time": "2023-11-15T13:31:49.230568Z"
    }
   },
   "id": "1845942f5062b5c1"
  },
  {
   "cell_type": "code",
   "execution_count": 35,
   "outputs": [
    {
     "data": {
      "text/plain": "      Name  Marks  Gender  Half_Marks\n0  Priyang     98    Male        49.0\n1   Aadhya     89  Female        44.5\n2   Krisha     99  Female        49.5\n3   Vedant     87    Male        43.5\n4   Parshv     90    Male        45.0\n5   Mittal     83  Female        41.5\n6  Archana     99  Female        49.5",
      "text/html": "<div>\n<style scoped>\n    .dataframe tbody tr th:only-of-type {\n        vertical-align: middle;\n    }\n\n    .dataframe tbody tr th {\n        vertical-align: top;\n    }\n\n    .dataframe thead th {\n        text-align: right;\n    }\n</style>\n<table border=\"1\" class=\"dataframe\">\n  <thead>\n    <tr style=\"text-align: right;\">\n      <th></th>\n      <th>Name</th>\n      <th>Marks</th>\n      <th>Gender</th>\n      <th>Half_Marks</th>\n    </tr>\n  </thead>\n  <tbody>\n    <tr>\n      <th>0</th>\n      <td>Priyang</td>\n      <td>98</td>\n      <td>Male</td>\n      <td>49.0</td>\n    </tr>\n    <tr>\n      <th>1</th>\n      <td>Aadhya</td>\n      <td>89</td>\n      <td>Female</td>\n      <td>44.5</td>\n    </tr>\n    <tr>\n      <th>2</th>\n      <td>Krisha</td>\n      <td>99</td>\n      <td>Female</td>\n      <td>49.5</td>\n    </tr>\n    <tr>\n      <th>3</th>\n      <td>Vedant</td>\n      <td>87</td>\n      <td>Male</td>\n      <td>43.5</td>\n    </tr>\n    <tr>\n      <th>4</th>\n      <td>Parshv</td>\n      <td>90</td>\n      <td>Male</td>\n      <td>45.0</td>\n    </tr>\n    <tr>\n      <th>5</th>\n      <td>Mittal</td>\n      <td>83</td>\n      <td>Female</td>\n      <td>41.5</td>\n    </tr>\n    <tr>\n      <th>6</th>\n      <td>Archana</td>\n      <td>99</td>\n      <td>Female</td>\n      <td>49.5</td>\n    </tr>\n  </tbody>\n</table>\n</div>"
     },
     "execution_count": 35,
     "metadata": {},
     "output_type": "execute_result"
    }
   ],
   "source": [
    "df1"
   ],
   "metadata": {
    "collapsed": false,
    "ExecuteTime": {
     "end_time": "2023-11-15T13:31:50.074692900Z",
     "start_time": "2023-11-15T13:31:50.059642200Z"
    }
   },
   "id": "c28e89ab08952f58"
  },
  {
   "cell_type": "code",
   "execution_count": 38,
   "outputs": [
    {
     "data": {
      "text/plain": "0    49.0\n1    44.5\n2    49.5\n3    43.5\n4    45.0\n5    41.5\n6    49.5\nName: Marks, dtype: float64"
     },
     "execution_count": 38,
     "metadata": {},
     "output_type": "execute_result"
    }
   ],
   "source": [
    "df1['Marks'].apply(lambda x:x/2)"
   ],
   "metadata": {
    "collapsed": false,
    "ExecuteTime": {
     "end_time": "2023-11-15T13:35:07.977812800Z",
     "start_time": "2023-11-15T13:35:07.962761300Z"
    }
   },
   "id": "57a94e5c77b70d04"
  },
  {
   "cell_type": "code",
   "execution_count": 39,
   "outputs": [
    {
     "data": {
      "text/plain": "0    7\n1    6\n2    6\n3    6\n4    6\n5    6\n6    7\nName: Name, dtype: int64"
     },
     "execution_count": 39,
     "metadata": {},
     "output_type": "execute_result"
    }
   ],
   "source": [
    "df1['Name'].apply(len)"
   ],
   "metadata": {
    "collapsed": false,
    "ExecuteTime": {
     "end_time": "2023-11-15T13:37:16.681291Z",
     "start_time": "2023-11-15T13:37:16.667225600Z"
    }
   },
   "id": "5cdfab306ef46775"
  },
  {
   "cell_type": "markdown",
   "source": [
    "13. Map function"
   ],
   "metadata": {
    "collapsed": false
   },
   "id": "ae75dbe1e95efb55"
  },
  {
   "cell_type": "code",
   "execution_count": 42,
   "outputs": [
    {
     "data": {
      "text/plain": "      Name  Marks  Gender  Half_Marks  Gender_By_0/1\n0  Priyang     98    Male        49.0              1\n1   Aadhya     89  Female        44.5              0\n2   Krisha     99  Female        49.5              0\n3   Vedant     87    Male        43.5              1\n4   Parshv     90    Male        45.0              1\n5   Mittal     83  Female        41.5              0\n6  Archana     99  Female        49.5              0",
      "text/html": "<div>\n<style scoped>\n    .dataframe tbody tr th:only-of-type {\n        vertical-align: middle;\n    }\n\n    .dataframe tbody tr th {\n        vertical-align: top;\n    }\n\n    .dataframe thead th {\n        text-align: right;\n    }\n</style>\n<table border=\"1\" class=\"dataframe\">\n  <thead>\n    <tr style=\"text-align: right;\">\n      <th></th>\n      <th>Name</th>\n      <th>Marks</th>\n      <th>Gender</th>\n      <th>Half_Marks</th>\n      <th>Gender_By_0/1</th>\n    </tr>\n  </thead>\n  <tbody>\n    <tr>\n      <th>0</th>\n      <td>Priyang</td>\n      <td>98</td>\n      <td>Male</td>\n      <td>49.0</td>\n      <td>1</td>\n    </tr>\n    <tr>\n      <th>1</th>\n      <td>Aadhya</td>\n      <td>89</td>\n      <td>Female</td>\n      <td>44.5</td>\n      <td>0</td>\n    </tr>\n    <tr>\n      <th>2</th>\n      <td>Krisha</td>\n      <td>99</td>\n      <td>Female</td>\n      <td>49.5</td>\n      <td>0</td>\n    </tr>\n    <tr>\n      <th>3</th>\n      <td>Vedant</td>\n      <td>87</td>\n      <td>Male</td>\n      <td>43.5</td>\n      <td>1</td>\n    </tr>\n    <tr>\n      <th>4</th>\n      <td>Parshv</td>\n      <td>90</td>\n      <td>Male</td>\n      <td>45.0</td>\n      <td>1</td>\n    </tr>\n    <tr>\n      <th>5</th>\n      <td>Mittal</td>\n      <td>83</td>\n      <td>Female</td>\n      <td>41.5</td>\n      <td>0</td>\n    </tr>\n    <tr>\n      <th>6</th>\n      <td>Archana</td>\n      <td>99</td>\n      <td>Female</td>\n      <td>49.5</td>\n      <td>0</td>\n    </tr>\n  </tbody>\n</table>\n</div>"
     },
     "execution_count": 42,
     "metadata": {},
     "output_type": "execute_result"
    }
   ],
   "source": [
    "df1['Gender_By_0/1']=df1['Gender'].map({'Male':1, 'Female':0})\n",
    "df1"
   ],
   "metadata": {
    "collapsed": false,
    "ExecuteTime": {
     "end_time": "2023-11-15T16:53:28.193155800Z",
     "start_time": "2023-11-15T16:53:28.163447600Z"
    }
   },
   "id": "43ff79bce06912c4"
  },
  {
   "cell_type": "markdown",
   "source": [
    "14. Drop columns"
   ],
   "metadata": {
    "collapsed": false
   },
   "id": "87e4a1f41df3cec5"
  },
  {
   "cell_type": "code",
   "execution_count": 45,
   "outputs": [
    {
     "data": {
      "text/plain": "      Name  Marks  Gender\n0  Priyang     98    Male\n1   Aadhya     89  Female\n2   Krisha     99  Female\n3   Vedant     87    Male\n4   Parshv     90    Male\n5   Mittal     83  Female\n6  Archana     99  Female",
      "text/html": "<div>\n<style scoped>\n    .dataframe tbody tr th:only-of-type {\n        vertical-align: middle;\n    }\n\n    .dataframe tbody tr th {\n        vertical-align: top;\n    }\n\n    .dataframe thead th {\n        text-align: right;\n    }\n</style>\n<table border=\"1\" class=\"dataframe\">\n  <thead>\n    <tr style=\"text-align: right;\">\n      <th></th>\n      <th>Name</th>\n      <th>Marks</th>\n      <th>Gender</th>\n    </tr>\n  </thead>\n  <tbody>\n    <tr>\n      <th>0</th>\n      <td>Priyang</td>\n      <td>98</td>\n      <td>Male</td>\n    </tr>\n    <tr>\n      <th>1</th>\n      <td>Aadhya</td>\n      <td>89</td>\n      <td>Female</td>\n    </tr>\n    <tr>\n      <th>2</th>\n      <td>Krisha</td>\n      <td>99</td>\n      <td>Female</td>\n    </tr>\n    <tr>\n      <th>3</th>\n      <td>Vedant</td>\n      <td>87</td>\n      <td>Male</td>\n    </tr>\n    <tr>\n      <th>4</th>\n      <td>Parshv</td>\n      <td>90</td>\n      <td>Male</td>\n    </tr>\n    <tr>\n      <th>5</th>\n      <td>Mittal</td>\n      <td>83</td>\n      <td>Female</td>\n    </tr>\n    <tr>\n      <th>6</th>\n      <td>Archana</td>\n      <td>99</td>\n      <td>Female</td>\n    </tr>\n  </tbody>\n</table>\n</div>"
     },
     "execution_count": 45,
     "metadata": {},
     "output_type": "execute_result"
    }
   ],
   "source": [
    "df1.drop(['Half_Marks','Gender_By_0/1'], axis=1)"
   ],
   "metadata": {
    "collapsed": false,
    "ExecuteTime": {
     "end_time": "2023-11-15T16:56:38.764427600Z",
     "start_time": "2023-11-15T16:56:38.742294900Z"
    }
   },
   "id": "247a255280689eea"
  }
 ],
 "metadata": {
  "kernelspec": {
   "display_name": "Python 3",
   "language": "python",
   "name": "python3"
  },
  "language_info": {
   "codemirror_mode": {
    "name": "ipython",
    "version": 2
   },
   "file_extension": ".py",
   "mimetype": "text/x-python",
   "name": "python",
   "nbconvert_exporter": "python",
   "pygments_lexer": "ipython2",
   "version": "2.7.6"
  }
 },
 "nbformat": 4,
 "nbformat_minor": 5
}
