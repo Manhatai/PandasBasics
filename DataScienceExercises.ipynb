{
 "cells": [
  {
   "cell_type": "code",
   "execution_count": 2,
   "id": "initial_id",
   "metadata": {
    "collapsed": true,
    "ExecuteTime": {
     "end_time": "2023-11-14T17:41:01.300754600Z",
     "start_time": "2023-11-14T17:41:01.288025200Z"
    }
   },
   "outputs": [
    {
     "data": {
      "text/plain": "      Name  Marks  Gender\n0  Priyang     98    Male\n1   Aadhya     89  Female\n2   Krisha     99  Female\n3   Vedant     87    Male\n4   Parshv     90    Male\n5   Mittal     83  Female\n6  Archana     99  Female",
      "text/html": "<div>\n<style scoped>\n    .dataframe tbody tr th:only-of-type {\n        vertical-align: middle;\n    }\n\n    .dataframe tbody tr th {\n        vertical-align: top;\n    }\n\n    .dataframe thead th {\n        text-align: right;\n    }\n</style>\n<table border=\"1\" class=\"dataframe\">\n  <thead>\n    <tr style=\"text-align: right;\">\n      <th></th>\n      <th>Name</th>\n      <th>Marks</th>\n      <th>Gender</th>\n    </tr>\n  </thead>\n  <tbody>\n    <tr>\n      <th>0</th>\n      <td>Priyang</td>\n      <td>98</td>\n      <td>Male</td>\n    </tr>\n    <tr>\n      <th>1</th>\n      <td>Aadhya</td>\n      <td>89</td>\n      <td>Female</td>\n    </tr>\n    <tr>\n      <th>2</th>\n      <td>Krisha</td>\n      <td>99</td>\n      <td>Female</td>\n    </tr>\n    <tr>\n      <th>3</th>\n      <td>Vedant</td>\n      <td>87</td>\n      <td>Male</td>\n    </tr>\n    <tr>\n      <th>4</th>\n      <td>Parshv</td>\n      <td>90</td>\n      <td>Male</td>\n    </tr>\n    <tr>\n      <th>5</th>\n      <td>Mittal</td>\n      <td>83</td>\n      <td>Female</td>\n    </tr>\n    <tr>\n      <th>6</th>\n      <td>Archana</td>\n      <td>99</td>\n      <td>Female</td>\n    </tr>\n  </tbody>\n</table>\n</div>"
     },
     "execution_count": 2,
     "metadata": {},
     "output_type": "execute_result"
    }
   ],
   "source": [
    "import pandas as pd\n",
    "dict1 ={'Name':['Priyang','Aadhya','Krisha','Vedant','Parshv',\n",
    "                'Mittal','Archana'],\n",
    "                'Marks':[98,89,99,87,90,83,99],\n",
    "                'Gender':['Male','Female','Female','Male','Male',\n",
    "                         'Female','Female']\n",
    "               }\n",
    "df1=pd.DataFrame(dict1)\n",
    "df1"
   ]
  },
  {
   "cell_type": "markdown",
   "source": [
    "1. Display top 3 rows of the dataset"
   ],
   "metadata": {
    "collapsed": false
   },
   "id": "4574bedd8b00d005"
  },
  {
   "cell_type": "code",
   "execution_count": 6,
   "outputs": [
    {
     "data": {
      "text/plain": "      Name  Marks  Gender\n0  Priyang     98    Male\n1   Aadhya     89  Female\n2   Krisha     99  Female",
      "text/html": "<div>\n<style scoped>\n    .dataframe tbody tr th:only-of-type {\n        vertical-align: middle;\n    }\n\n    .dataframe tbody tr th {\n        vertical-align: top;\n    }\n\n    .dataframe thead th {\n        text-align: right;\n    }\n</style>\n<table border=\"1\" class=\"dataframe\">\n  <thead>\n    <tr style=\"text-align: right;\">\n      <th></th>\n      <th>Name</th>\n      <th>Marks</th>\n      <th>Gender</th>\n    </tr>\n  </thead>\n  <tbody>\n    <tr>\n      <th>0</th>\n      <td>Priyang</td>\n      <td>98</td>\n      <td>Male</td>\n    </tr>\n    <tr>\n      <th>1</th>\n      <td>Aadhya</td>\n      <td>89</td>\n      <td>Female</td>\n    </tr>\n    <tr>\n      <th>2</th>\n      <td>Krisha</td>\n      <td>99</td>\n      <td>Female</td>\n    </tr>\n  </tbody>\n</table>\n</div>"
     },
     "execution_count": 6,
     "metadata": {},
     "output_type": "execute_result"
    }
   ],
   "source": [
    "df1.head(3)"
   ],
   "metadata": {
    "collapsed": false,
    "ExecuteTime": {
     "end_time": "2023-11-14T17:46:18.109301300Z",
     "start_time": "2023-11-14T17:46:18.097474Z"
    }
   },
   "id": "f2deaf60b500ff08"
  },
  {
   "cell_type": "markdown",
   "source": [
    "2. Display last 3 rows of the dataset"
   ],
   "metadata": {
    "collapsed": false
   },
   "id": "b859adab4c7eeaf7"
  },
  {
   "cell_type": "code",
   "execution_count": 7,
   "outputs": [
    {
     "data": {
      "text/plain": "      Name  Marks  Gender\n4   Parshv     90    Male\n5   Mittal     83  Female\n6  Archana     99  Female",
      "text/html": "<div>\n<style scoped>\n    .dataframe tbody tr th:only-of-type {\n        vertical-align: middle;\n    }\n\n    .dataframe tbody tr th {\n        vertical-align: top;\n    }\n\n    .dataframe thead th {\n        text-align: right;\n    }\n</style>\n<table border=\"1\" class=\"dataframe\">\n  <thead>\n    <tr style=\"text-align: right;\">\n      <th></th>\n      <th>Name</th>\n      <th>Marks</th>\n      <th>Gender</th>\n    </tr>\n  </thead>\n  <tbody>\n    <tr>\n      <th>4</th>\n      <td>Parshv</td>\n      <td>90</td>\n      <td>Male</td>\n    </tr>\n    <tr>\n      <th>5</th>\n      <td>Mittal</td>\n      <td>83</td>\n      <td>Female</td>\n    </tr>\n    <tr>\n      <th>6</th>\n      <td>Archana</td>\n      <td>99</td>\n      <td>Female</td>\n    </tr>\n  </tbody>\n</table>\n</div>"
     },
     "execution_count": 7,
     "metadata": {},
     "output_type": "execute_result"
    }
   ],
   "source": [
    "df1.tail(3)"
   ],
   "metadata": {
    "collapsed": false,
    "ExecuteTime": {
     "end_time": "2023-11-14T17:47:28.867413Z",
     "start_time": "2023-11-14T17:47:28.852130900Z"
    }
   },
   "id": "143f7afbf7b89a5f"
  },
  {
   "cell_type": "markdown",
   "source": [
    "3. Find shape of our dataset (number of rows and columns)"
   ],
   "metadata": {
    "collapsed": false
   },
   "id": "53c36957af3579ff"
  },
  {
   "cell_type": "code",
   "execution_count": 9,
   "outputs": [
    {
     "name": "stdout",
     "output_type": "stream",
     "text": [
      "Number of rows: 7\n",
      "Number of columns: 3\n"
     ]
    }
   ],
   "source": [
    "print(f\"Number of rows: {df1.shape[0]}\")\n",
    "print(f\"Number of columns: {df1.shape[1]}\")"
   ],
   "metadata": {
    "collapsed": false,
    "ExecuteTime": {
     "end_time": "2023-11-14T17:51:31.742630800Z",
     "start_time": "2023-11-14T17:51:31.715744300Z"
    }
   },
   "id": "168a7461d6202753"
  },
  {
   "cell_type": "markdown",
   "source": [
    "4. Get information about dataset"
   ],
   "metadata": {
    "collapsed": false
   },
   "id": "89b1583a20db557d"
  },
  {
   "cell_type": "code",
   "execution_count": 10,
   "outputs": [
    {
     "name": "stdout",
     "output_type": "stream",
     "text": [
      "<class 'pandas.core.frame.DataFrame'>\n",
      "RangeIndex: 7 entries, 0 to 6\n",
      "Data columns (total 3 columns):\n",
      " #   Column  Non-Null Count  Dtype \n",
      "---  ------  --------------  ----- \n",
      " 0   Name    7 non-null      object\n",
      " 1   Marks   7 non-null      int64 \n",
      " 2   Gender  7 non-null      object\n",
      "dtypes: int64(1), object(2)\n",
      "memory usage: 300.0+ bytes\n"
     ]
    }
   ],
   "source": [
    "df1.info()"
   ],
   "metadata": {
    "collapsed": false,
    "ExecuteTime": {
     "end_time": "2023-11-14T18:00:53.237166500Z",
     "start_time": "2023-11-14T18:00:53.210875600Z"
    }
   },
   "id": "bd9979be3b1b28ab"
  },
  {
   "cell_type": "markdown",
   "source": [
    "5. Check null values in dataset"
   ],
   "metadata": {
    "collapsed": false
   },
   "id": "da0b9deae21b1deb"
  },
  {
   "cell_type": "code",
   "execution_count": 14,
   "outputs": [
    {
     "data": {
      "text/plain": "Name      0\nMarks     0\nGender    0\ndtype: int64"
     },
     "execution_count": 14,
     "metadata": {},
     "output_type": "execute_result"
    }
   ],
   "source": [
    "df1.isnull().sum(axis=0)"
   ],
   "metadata": {
    "collapsed": false,
    "ExecuteTime": {
     "end_time": "2023-11-14T18:57:53.160133900Z",
     "start_time": "2023-11-14T18:57:53.125866500Z"
    }
   },
   "id": "afb4a1cef7ae34ef"
  },
  {
   "cell_type": "markdown",
   "source": [
    "6. Get overall statistics about the dataframe"
   ],
   "metadata": {
    "collapsed": false
   },
   "id": "59de700e9d2212fd"
  },
  {
   "cell_type": "code",
   "execution_count": 16,
   "outputs": [
    {
     "data": {
      "text/plain": "           Name      Marks  Gender\ncount         7   7.000000       7\nunique        7        NaN       2\ntop     Priyang        NaN  Female\nfreq          1        NaN       4\nmean        NaN  92.142857     NaN\nstd         NaN   6.491753     NaN\nmin         NaN  83.000000     NaN\n25%         NaN  88.000000     NaN\n50%         NaN  90.000000     NaN\n75%         NaN  98.500000     NaN\nmax         NaN  99.000000     NaN",
      "text/html": "<div>\n<style scoped>\n    .dataframe tbody tr th:only-of-type {\n        vertical-align: middle;\n    }\n\n    .dataframe tbody tr th {\n        vertical-align: top;\n    }\n\n    .dataframe thead th {\n        text-align: right;\n    }\n</style>\n<table border=\"1\" class=\"dataframe\">\n  <thead>\n    <tr style=\"text-align: right;\">\n      <th></th>\n      <th>Name</th>\n      <th>Marks</th>\n      <th>Gender</th>\n    </tr>\n  </thead>\n  <tbody>\n    <tr>\n      <th>count</th>\n      <td>7</td>\n      <td>7.000000</td>\n      <td>7</td>\n    </tr>\n    <tr>\n      <th>unique</th>\n      <td>7</td>\n      <td>NaN</td>\n      <td>2</td>\n    </tr>\n    <tr>\n      <th>top</th>\n      <td>Priyang</td>\n      <td>NaN</td>\n      <td>Female</td>\n    </tr>\n    <tr>\n      <th>freq</th>\n      <td>1</td>\n      <td>NaN</td>\n      <td>4</td>\n    </tr>\n    <tr>\n      <th>mean</th>\n      <td>NaN</td>\n      <td>92.142857</td>\n      <td>NaN</td>\n    </tr>\n    <tr>\n      <th>std</th>\n      <td>NaN</td>\n      <td>6.491753</td>\n      <td>NaN</td>\n    </tr>\n    <tr>\n      <th>min</th>\n      <td>NaN</td>\n      <td>83.000000</td>\n      <td>NaN</td>\n    </tr>\n    <tr>\n      <th>25%</th>\n      <td>NaN</td>\n      <td>88.000000</td>\n      <td>NaN</td>\n    </tr>\n    <tr>\n      <th>50%</th>\n      <td>NaN</td>\n      <td>90.000000</td>\n      <td>NaN</td>\n    </tr>\n    <tr>\n      <th>75%</th>\n      <td>NaN</td>\n      <td>98.500000</td>\n      <td>NaN</td>\n    </tr>\n    <tr>\n      <th>max</th>\n      <td>NaN</td>\n      <td>99.000000</td>\n      <td>NaN</td>\n    </tr>\n  </tbody>\n</table>\n</div>"
     },
     "execution_count": 16,
     "metadata": {},
     "output_type": "execute_result"
    }
   ],
   "source": [
    "df1.describe(include='all')"
   ],
   "metadata": {
    "collapsed": false,
    "ExecuteTime": {
     "end_time": "2023-11-14T19:13:18.422750800Z",
     "start_time": "2023-11-14T19:13:18.415976100Z"
    }
   },
   "id": "58d0819539d607cd"
  }
 ],
 "metadata": {
  "kernelspec": {
   "display_name": "Python 3",
   "language": "python",
   "name": "python3"
  },
  "language_info": {
   "codemirror_mode": {
    "name": "ipython",
    "version": 2
   },
   "file_extension": ".py",
   "mimetype": "text/x-python",
   "name": "python",
   "nbconvert_exporter": "python",
   "pygments_lexer": "ipython2",
   "version": "2.7.6"
  }
 },
 "nbformat": 4,
 "nbformat_minor": 5
}
